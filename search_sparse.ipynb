{
 "cells": [
  {
   "cell_type": "code",
   "execution_count": null,
   "metadata": {},
   "outputs": [],
   "source": [
    "\n",
    "from fastembed import SparseTextEmbedding\n",
    "from qdrant_client import QdrantClient, models\n",
    "import os\n",
    "import json\n",
    "from langchain_openai import AzureOpenAIEmbeddings\n",
    "from qdrant_client import QdrantClient\n",
    "client = QdrantClient(\"http://localhost:6333\", timeout=300)"
   ]
  },
  {
   "cell_type": "code",
   "execution_count": null,
   "metadata": {},
   "outputs": [],
   "source": [
    "\n",
    "MODEL_NAME = \"prithivida/Splade_PP_en_v1\"\n",
    "#MODEL_NAME= \"Qdrant/bm42-all-minilm-l6-v2-attentions\"\n",
    "#MODEL_NAME = \"Qdrant/bm25\"\n",
    "SPARSE_TYPE = \"bm42\"\n",
    "DATASET = \"quora\"\n",
    "COLLECTION_NAME = \"quora_collection\""
   ]
  },
  {
   "cell_type": "code",
   "execution_count": null,
   "metadata": {},
   "outputs": [],
   "source": [
    "\n",
    "def load_queries(dataset):\n",
    "    queries = {}\n",
    "\n",
    "    with open(dataset, \"r\") as file:\n",
    "        for line in file:\n",
    "            row = json.loads(line)\n",
    "            queries[row[\"_id\"]] = row[\"text\"]\n",
    "    return queries"
   ]
  },
  {
   "cell_type": "code",
   "execution_count": null,
   "metadata": {},
   "outputs": [],
   "source": [
    "\n",
    "DATASET_q = f\"/datasets/{DATASET}/queries.jsonl\"\n",
    "queries = load_queries(DATASET_q)"
   ]
  },
  {
   "cell_type": "code",
   "execution_count": null,
   "metadata": {},
   "outputs": [],
   "source": [
    "# this function encodes a query into a sparse vector using a specified model (bm25/splade/BM42)\n",
    "def encode_sparse_query(query, model_name= MODEL_NAME):  \n",
    "    model = SparseTextEmbedding(model_name)\n",
    "    embedding = list(model.query_embed(query))[0]\n",
    "    sparse_vector = models.SparseVector(values=embedding.values.tolist(), indices=embedding.indices.tolist())\n",
    "    return sparse_vector"
   ]
  },
  {
   "cell_type": "code",
   "execution_count": null,
   "metadata": {},
   "outputs": [],
   "source": [
    "def sparse_search(sparse_query):\n",
    "    results = client.query_points(\n",
    "        collection_name=COLLECTION_NAME,\n",
    "        query=sparse_query,\n",
    "        using=SPARSE_TYPE,\n",
    "        with_payload=True,\n",
    "        #with_vectors=[\"bm42\"],\n",
    "        limit=10\n",
    "    )\n",
    "    return results"
   ]
  },
  {
   "cell_type": "code",
   "execution_count": null,
   "metadata": {},
   "outputs": [],
   "source": [
    "with open(\"./quora_bm42_sparse.jsonl\", \"w\") as dense_out:\n",
    "    for idx,text in queries.items():\n",
    "        sparse_vector = encode_sparse_query(text)\n",
    "        search_result = sparse_search(sparse_vector)\n",
    "\n",
    "        sparse_output = {\"query_id\": idx,\"results\":\n",
    "                        [{\"doc_id\": point.id,\"text\": point.payload, \"score\": point.score}\n",
    "                         for point in search_result.points]}\n",
    "        dense_out.write(json.dumps(sparse_output) + \"\\n\")"
   ]
  }
 ],
 "metadata": {
  "language_info": {
   "name": "python"
  }
 },
 "nbformat": 4,
 "nbformat_minor": 2
}
